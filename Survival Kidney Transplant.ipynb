{
 "cells": [
  {
   "cell_type": "code",
   "execution_count": 1,
   "metadata": {},
   "outputs": [
    {
     "data": {
      "text/html": [
       "<table>\n",
       "<thead><tr><th scope=col>ptid</th><th scope=col>obstime</th><th scope=col>death</th><th scope=col>gender</th><th scope=col>race</th><th scope=col>age</th></tr></thead>\n",
       "<tbody>\n",
       "\t<tr><td>1 </td><td> 1</td><td>0 </td><td>1 </td><td>1 </td><td>46</td></tr>\n",
       "\t<tr><td>2 </td><td> 5</td><td>0 </td><td>1 </td><td>1 </td><td>51</td></tr>\n",
       "\t<tr><td>3 </td><td> 7</td><td>1 </td><td>1 </td><td>1 </td><td>55</td></tr>\n",
       "\t<tr><td>4 </td><td> 9</td><td>0 </td><td>1 </td><td>1 </td><td>57</td></tr>\n",
       "\t<tr><td>5 </td><td>13</td><td>0 </td><td>1 </td><td>1 </td><td>45</td></tr>\n",
       "\t<tr><td>6 </td><td>13</td><td>0 </td><td>1 </td><td>1 </td><td>43</td></tr>\n",
       "</tbody>\n",
       "</table>\n"
      ],
      "text/latex": [
       "\\begin{tabular}{r|llllll}\n",
       " ptid & obstime & death & gender & race & age\\\\\n",
       "\\hline\n",
       "\t 1  &  1 & 0  & 1  & 1  & 46\\\\\n",
       "\t 2  &  5 & 0  & 1  & 1  & 51\\\\\n",
       "\t 3  &  7 & 1  & 1  & 1  & 55\\\\\n",
       "\t 4  &  9 & 0  & 1  & 1  & 57\\\\\n",
       "\t 5  & 13 & 0  & 1  & 1  & 45\\\\\n",
       "\t 6  & 13 & 0  & 1  & 1  & 43\\\\\n",
       "\\end{tabular}\n"
      ],
      "text/markdown": [
       "\n",
       "ptid | obstime | death | gender | race | age | \n",
       "|---|---|---|---|---|---|\n",
       "| 1  |  1 | 0  | 1  | 1  | 46 | \n",
       "| 2  |  5 | 0  | 1  | 1  | 51 | \n",
       "| 3  |  7 | 1  | 1  | 1  | 55 | \n",
       "| 4  |  9 | 0  | 1  | 1  | 57 | \n",
       "| 5  | 13 | 0  | 1  | 1  | 45 | \n",
       "| 6  | 13 | 0  | 1  | 1  | 43 | \n",
       "\n",
       "\n"
      ],
      "text/plain": [
       "  ptid obstime death gender race age\n",
       "1 1     1      0     1      1    46 \n",
       "2 2     5      0     1      1    51 \n",
       "3 3     7      1     1      1    55 \n",
       "4 4     9      0     1      1    57 \n",
       "5 5    13      0     1      1    45 \n",
       "6 6    13      0     1      1    43 "
      ]
     },
     "metadata": {},
     "output_type": "display_data"
    }
   ],
   "source": [
    "kidney <- read.csv( \"kidneytransplant.csv\", header=TRUE )\n",
    "\n",
    "head(kidney)"
   ]
  },
  {
   "cell_type": "code",
   "execution_count": 2,
   "metadata": {},
   "outputs": [],
   "source": [
    "## Recode gender and race to something meaningful\n",
    "kidney$female <- kidney$gender - 1\n",
    "kidney$black <- kidney$race - 1"
   ]
  },
  {
   "cell_type": "code",
   "execution_count": 6,
   "metadata": {},
   "outputs": [
    {
     "name": "stderr",
     "output_type": "stream",
     "text": [
      "\n",
      "Attaching package: ‘survival’\n",
      "\n",
      "The following object is masked _by_ ‘.GlobalEnv’:\n",
      "\n",
      "    kidney\n",
      "\n"
     ]
    },
    {
     "data": {
      "text/plain": [
       "Call: survfit(formula = Surv(obstime, death) ~ 1, data = kidney)\n",
       "\n",
       "      n  events  median 0.95LCL 0.95UCL \n",
       "    863     140      NA      NA      NA "
      ]
     },
     "metadata": {},
     "output_type": "display_data"
    },
    {
     "data": {
      "text/plain": [
       "Call: survfit(formula = Surv(obstime, death) ~ 1, data = kidney)\n",
       "\n",
       " time n.risk n.event survival std.err lower 95% CI upper 95% CI\n",
       "    2    861       1    0.999 0.00116        0.997        1.000\n",
       "    3    860       1    0.998 0.00164        0.994        1.000\n",
       "    7    857       2    0.995 0.00232        0.991        1.000\n",
       "   10    853       2    0.993 0.00284        0.987        0.999\n",
       "   17    848       1    0.992 0.00307        0.986        0.998\n",
       "   21    844       1    0.991 0.00328        0.984        0.997\n",
       "   26    843       2    0.988 0.00367        0.981        0.996\n",
       "   28    840       1    0.987 0.00385        0.980        0.995\n",
       "   37    836       1    0.986 0.00402        0.978        0.994\n",
       "   40    835       1    0.985 0.00419        0.977        0.993\n",
       "   43    834       2    0.982 0.00450        0.974        0.991\n",
       "   44    829       1    0.981 0.00465        0.972        0.990\n",
       "   45    828       1    0.980 0.00479        0.971        0.989\n",
       "   50    826       1    0.979 0.00493        0.969        0.989\n",
       "   52    821       1    0.978 0.00507        0.968        0.988\n",
       "   56    820       1    0.976 0.00520        0.966        0.987\n",
       "   57    819       2    0.974 0.00545        0.963        0.985\n",
       "   59    817       1    0.973 0.00557        0.962        0.984\n",
       "   62    816       2    0.971 0.00581        0.959        0.982\n",
       "   68    810       2    0.968 0.00604        0.956        0.980\n",
       "   69    808       1    0.967 0.00615        0.955        0.979\n",
       "   78    807       1    0.966 0.00626        0.954        0.978\n",
       "   79    806       1    0.965 0.00636        0.952        0.977\n",
       "   88    798       1    0.963 0.00647        0.951        0.976\n",
       "   91    797       1    0.962 0.00657        0.949        0.975\n",
       "   97    793       1    0.961 0.00667        0.948        0.974\n",
       "   98    792       2    0.958 0.00687        0.945        0.972\n",
       "  104    790       1    0.957 0.00697        0.944        0.971\n",
       "  106    786       2    0.955 0.00716        0.941        0.969\n",
       "  119    773       1    0.954 0.00726        0.939        0.968\n",
       "  121    771       1    0.952 0.00736        0.938        0.967\n",
       "  135    767       1    0.951 0.00745        0.937        0.966\n",
       "  143    764       1    0.950 0.00754        0.935        0.965\n",
       "  150    762       1    0.949 0.00764        0.934        0.964\n",
       "  154    758       1    0.947 0.00773        0.932        0.963\n",
       "  158    757       1    0.946 0.00782        0.931        0.962\n",
       "  162    756       1    0.945 0.00791        0.929        0.960\n",
       "  190    746       1    0.944 0.00800        0.928        0.959\n",
       "  206    739       1    0.942 0.00809        0.927        0.958\n",
       "  209    738       1    0.941 0.00818        0.925        0.957\n",
       "  228    732       1    0.940 0.00827        0.924        0.956\n",
       "  229    731       1    0.938 0.00835        0.922        0.955\n",
       "  242    724       1    0.937 0.00844        0.921        0.954\n",
       "  248    720       1    0.936 0.00853        0.919        0.953\n",
       "  249    719       1    0.935 0.00862        0.918        0.952\n",
       "  252    715       1    0.933 0.00870        0.916        0.950\n",
       "  273    701       1    0.932 0.00879        0.915        0.949\n",
       "  291    694       1    0.931 0.00888        0.913        0.948\n",
       "  297    693       1    0.929 0.00897        0.912        0.947\n",
       "  311    690       2    0.927 0.00914        0.909        0.945\n",
       "  334    681       1    0.925 0.00923        0.907        0.943\n",
       "  340    678       1    0.924 0.00932        0.906        0.942\n",
       "  344    673       1    0.922 0.00941        0.904        0.941\n",
       "  346    672       1    0.921 0.00949        0.903        0.940\n",
       "  354    669       1    0.920 0.00958        0.901        0.939\n",
       "  366    667       1    0.918 0.00966        0.900        0.937\n",
       "  391    659       1    0.917 0.00975        0.898        0.936\n",
       "  402    655       1    0.916 0.00983        0.896        0.935\n",
       "  421    649       1    0.914 0.00992        0.895        0.934\n",
       "  439    643       1    0.913 0.01000        0.893        0.933\n",
       "  450    637       1    0.911 0.01009        0.892        0.931\n",
       "  470    633       1    0.910 0.01017        0.890        0.930\n",
       "  478    632       1    0.908 0.01026        0.888        0.929\n",
       "  481    630       1    0.907 0.01034        0.887        0.927\n",
       "  490    627       1    0.905 0.01043        0.885        0.926\n",
       "  495    624       1    0.904 0.01051        0.884        0.925\n",
       "  570    609       1    0.903 0.01060        0.882        0.924\n",
       "  583    604       1    0.901 0.01069        0.880        0.922\n",
       "  614    599       1    0.900 0.01077        0.879        0.921\n",
       "  615    598       1    0.898 0.01086        0.877        0.920\n",
       "  621    597       1    0.897 0.01095        0.875        0.918\n",
       "  652    589       1    0.895 0.01103        0.874        0.917\n",
       "  697    570       1    0.893 0.01112        0.872        0.916\n",
       "  730    564       1    0.892 0.01122        0.870        0.914\n",
       "  773    550       1    0.890 0.01131        0.868        0.913\n",
       "  776    549       1    0.889 0.01141        0.867        0.911\n",
       "  790    544       1    0.887 0.01150        0.865        0.910\n",
       "  793    543       1    0.885 0.01160        0.863        0.908\n",
       "  806    542       1    0.884 0.01169        0.861        0.907\n",
       "  840    539       1    0.882 0.01178        0.859        0.905\n",
       "  852    538       1    0.880 0.01188        0.857        0.904\n",
       "  864    535       1    0.879 0.01197        0.856        0.903\n",
       "  875    530       1    0.877 0.01206        0.854        0.901\n",
       "  929    513       1    0.875 0.01216        0.852        0.900\n",
       "  939    510       1    0.874 0.01225        0.850        0.898\n",
       "  943    509       1    0.872 0.01235        0.848        0.897\n",
       "  945    508       2    0.869 0.01254        0.844        0.893\n",
       "  946    506       1    0.867 0.01263        0.842        0.892\n",
       " 1001    494       1    0.865 0.01272        0.841        0.890\n",
       " 1013    491       1    0.863 0.01282        0.839        0.889\n",
       " 1016    490       1    0.862 0.01291        0.837        0.887\n",
       " 1105    479       1    0.860 0.01301        0.835        0.886\n",
       " 1164    457       1    0.858 0.01312        0.833        0.884\n",
       " 1186    454       1    0.856 0.01322        0.830        0.882\n",
       " 1191    453       1    0.854 0.01333        0.828        0.881\n",
       " 1196    452       1    0.852 0.01343        0.826        0.879\n",
       " 1210    447       1    0.850 0.01354        0.824        0.877\n",
       " 1275    430       1    0.848 0.01365        0.822        0.876\n",
       " 1326    415       1    0.846 0.01377        0.820        0.874\n",
       " 1331    414       1    0.844 0.01389        0.817        0.872\n",
       " 1357    410       1    0.842 0.01401        0.815        0.870\n",
       " 1384    402       1    0.840 0.01413        0.813        0.868\n",
       " 1388    400       1    0.838 0.01425        0.811        0.866\n",
       " 1418    398       1    0.836 0.01437        0.808        0.865\n",
       " 1473    383       1    0.834 0.01449        0.806        0.863\n",
       " 1509    377       1    0.832 0.01462        0.803        0.861\n",
       " 1734    329       1    0.829 0.01479        0.800        0.858\n",
       " 1777    313       1    0.826 0.01498        0.797        0.856\n",
       " 1820    295       1    0.824 0.01519        0.794        0.854\n",
       " 1835    294       1    0.821 0.01540        0.791        0.851\n",
       " 1877    289       1    0.818 0.01560        0.788        0.849\n",
       " 1940    280       1    0.815 0.01582        0.785        0.847\n",
       " 2034    254       1    0.812 0.01608        0.781        0.844\n",
       " 2056    242       1    0.808 0.01636        0.777        0.841\n",
       " 2108    227       1    0.805 0.01667        0.773        0.838\n",
       " 2171    221       1    0.801 0.01699        0.769        0.835\n",
       " 2276    200       1    0.797 0.01737        0.764        0.832\n",
       " 2291    199       1    0.793 0.01774        0.759        0.829\n",
       " 2301    196       1    0.789 0.01810        0.754        0.825\n",
       " 2313    194       1    0.785 0.01846        0.750        0.822\n",
       " 2369    183       1    0.781 0.01885        0.745        0.819\n",
       " 2414    176       1    0.776 0.01926        0.740        0.815\n",
       " 2421    174       1    0.772 0.01966        0.734        0.811\n",
       " 2489    156       1    0.767 0.02014        0.728        0.807\n",
       " 2557    146       1    0.762 0.02068        0.722        0.803\n",
       " 2567    145       1    0.756 0.02119        0.716        0.799\n",
       " 2650    131       1    0.751 0.02180        0.709        0.795\n",
       " 2795     97       1    0.743 0.02291        0.699        0.789\n",
       " 3146     39       1    0.724 0.02919        0.669        0.783"
      ]
     },
     "metadata": {},
     "output_type": "display_data"
    }
   ],
   "source": [
    "## Compute overall KM estimate\n",
    "library( survival )\n",
    "\n",
    "kmEst.all <- survfit( Surv(obstime, death) ~ 1, data=kidney )\n",
    "kmEst.all\n",
    "summary(kmEst.all)"
   ]
  },
  {
   "cell_type": "code",
   "execution_count": 8,
   "metadata": {},
   "outputs": [
    {
     "data": {
      "image/png": "[encoded data removed]",
      "text/plain": [
       "plot without title"
      ]
     },
     "metadata": {},
     "output_type": "display_data"
    }
   ],
   "source": [
    "kmEst.gender <- survfit( Surv(obstime, death) ~ female, data=kidney )\n",
    "\n",
    "plot( kmEst.gender, xscale=365.25, mark.time=FALSE, col = c('red', 'blue'),\n",
    "ylab=\"Survival\", xlab=\"Years since transplant\" )\n",
    "\n",
    "legend( 1, .6, col = c('red', 'blue'),legend=c(\"Male\", \"Female\"), bty=\"n\" )"
   ]
  },
  {
   "cell_type": "code",
   "execution_count": 9,
   "metadata": {},
   "outputs": [
    {
     "data": {
      "text/html": [
       "<dl>\n",
       "\t<dt>$`female=0`</dt>\n",
       "\t\t<dd><table>\n",
       "<thead><tr><th scope=col>time</th><th scope=col>km.est</th><th scope=col>lower</th><th scope=col>upper</th></tr></thead>\n",
       "<tbody>\n",
       "\t<tr><td>0.5      </td><td>0.9467434</td><td>0.9273872</td><td>0.9665036</td></tr>\n",
       "\t<tr><td>1.0      </td><td>0.9162635</td><td>0.8919893</td><td>0.9411982</td></tr>\n",
       "\t<tr><td>2.0      </td><td>0.8799810</td><td>0.8507622</td><td>0.9102033</td></tr>\n",
       "</tbody>\n",
       "</table>\n",
       "</dd>\n",
       "\t<dt>$`NA`</dt>\n",
       "\t\t<dd><table>\n",
       "<thead><tr><th scope=col>time</th><th scope=col>km.est</th><th scope=col>lower</th><th scope=col>upper</th></tr></thead>\n",
       "<tbody>\n",
       "\t<tr><td>0.5      </td><td>0.9419531</td><td>0.9169427</td><td>0.9676457</td></tr>\n",
       "\t<tr><td>1.0      </td><td>0.9250765</td><td>0.8966287</td><td>0.9544268</td></tr>\n",
       "\t<tr><td>2.0      </td><td>0.9103050</td><td>0.8789995</td><td>0.9427255</td></tr>\n",
       "</tbody>\n",
       "</table>\n",
       "</dd>\n",
       "</dl>\n"
      ],
      "text/latex": [
       "\\begin{description}\n",
       "\\item[\\$`female=0`] \\begin{tabular}{r|llll}\n",
       " time & km.est & lower & upper\\\\\n",
       "\\hline\n",
       "\t 0.5       & 0.9467434 & 0.9273872 & 0.9665036\\\\\n",
       "\t 1.0       & 0.9162635 & 0.8919893 & 0.9411982\\\\\n",
       "\t 2.0       & 0.8799810 & 0.8507622 & 0.9102033\\\\\n",
       "\\end{tabular}\n",
       "\n",
       "\\item[\\$`NA`] \\begin{tabular}{r|llll}\n",
       " time & km.est & lower & upper\\\\\n",
       "\\hline\n",
       "\t 0.5       & 0.9419531 & 0.9169427 & 0.9676457\\\\\n",
       "\t 1.0       & 0.9250765 & 0.8966287 & 0.9544268\\\\\n",
       "\t 2.0       & 0.9103050 & 0.8789995 & 0.9427255\\\\\n",
       "\\end{tabular}\n",
       "\n",
       "\\end{description}\n"
      ],
      "text/markdown": [
       "$`female=0`\n",
       ":   \n",
       "time | km.est | lower | upper | \n",
       "|---|---|---|\n",
       "| 0.5       | 0.9467434 | 0.9273872 | 0.9665036 | \n",
       "| 1.0       | 0.9162635 | 0.8919893 | 0.9411982 | \n",
       "| 2.0       | 0.8799810 | 0.8507622 | 0.9102033 | \n",
       "\n",
       "\n",
       "\n",
       "$`NA`\n",
       ":   \n",
       "time | km.est | lower | upper | \n",
       "|---|---|---|\n",
       "| 0.5       | 0.9419531 | 0.9169427 | 0.9676457 | \n",
       "| 1.0       | 0.9250765 | 0.8966287 | 0.9544268 | \n",
       "| 2.0       | 0.9103050 | 0.8789995 | 0.9427255 | \n",
       "\n",
       "\n",
       "\n",
       "\n",
       "\n"
      ],
      "text/plain": [
       "$`female=0`\n",
       "  time    km.est     lower     upper\n",
       "1  0.5 0.9467434 0.9273872 0.9665036\n",
       "2  1.0 0.9162635 0.8919893 0.9411982\n",
       "3  2.0 0.8799810 0.8507622 0.9102033\n",
       "\n",
       "$<NA>\n",
       "  time    km.est     lower     upper\n",
       "1  0.5 0.9419531 0.9169427 0.9676457\n",
       "2  1.0 0.9250765 0.8966287 0.9544268\n",
       "3  2.0 0.9103050 0.8789995 0.9427255\n"
      ]
     },
     "metadata": {},
     "output_type": "display_data"
    }
   ],
   "source": [
    "pKM <- function( fit, q, xscale=1 ){\n",
    "\tfit$time <- fit$time / xscale\n",
    "\tif( is.null( fit$strata ) ) fit$strata <- length(fit$surv)\n",
    "\tnStrata <- length( fit$strata )\n",
    "\trslt <- vector( \"list\", length=nStrata )\n",
    "\tnames( rslt ) <- ifelse( nStrata==1, \"Survival Probabilities\", names( fit$strata ) )\n",
    "\tfor( i in 1:nStrata ){\n",
    "\t\trslt[[i]] <- as.data.frame( cbind( q, matrix(NA, nrow=length(q), ncol=3) ) )\n",
    "\t\tnames( rslt[[i]] ) <- c( \"time\", \"km.est\", \"lower\", \"upper\" ) \n",
    "\t\tstrata.fit <-  as.data.frame( cbind( fit$time, fit$surv, fit$lower, fit$upper )[ (c(0,cumsum(fit$strata))[i]+1):(c(0,cumsum(fit$strata))[i]+fit$strata[i]), ] )\n",
    "\t\tnames( strata.fit ) <- c(\"time\", \"surv\", \"lower\", \"upper\" )\n",
    "\t\tfor(j in 1:length(q)){\n",
    "\t\t\tif( sum(strata.fit$time > q[j]) > 1 ) rslt[[i]][j,2:4] <- strata.fit[ max( which(strata.fit$time <= q[j] ) ), 2:4 ]\n",
    "\t\t\t}\n",
    "\t\t}\n",
    "\treturn(rslt)\n",
    "\t}\n",
    "\t\n",
    "pKM(kmEst.gender, q=c(.5,1,2), xscale=365.25 )"
   ]
  },
  {
   "cell_type": "code",
   "execution_count": 11,
   "metadata": {},
   "outputs": [],
   "source": [
    "##\tEstimated 75th percentile of the survival distribution by gender\n",
    "male.est <- as.data.frame( cbind( kmEst.gender$time, kmEst.gender$surv )[ 1:kmEst.gender$strata[1], ] )\n",
    "\n",
    "female.est <- as.data.frame( cbind( kmEst.gender$time, kmEst.gender$surv )[ (kmEst.gender$strata[1]+1):sum(kmEst.gender$strata), ] )\n",
    "\n",
    "names( male.est ) <- names( female.est ) <- c(\"time\", \"surv\" )"
   ]
  },
  {
   "cell_type": "code",
   "execution_count": 12,
   "metadata": {},
   "outputs": [
    {
     "data": {
      "text/html": [
       "<table>\n",
       "<thead><tr><th></th><th scope=col>time</th><th scope=col>surv</th></tr></thead>\n",
       "<tbody>\n",
       "\t<tr><th scope=row>347</th><td>2557     </td><td>0.7479833</td></tr>\n",
       "</tbody>\n",
       "</table>\n"
      ],
      "text/latex": [
       "\\begin{tabular}{r|ll}\n",
       "  & time & surv\\\\\n",
       "\\hline\n",
       "\t347 & 2557      & 0.7479833\\\\\n",
       "\\end{tabular}\n"
      ],
      "text/markdown": [
       "\n",
       "| <!--/--> | time | surv | \n",
       "|---|\n",
       "| 347 | 2557      | 0.7479833 | \n",
       "\n",
       "\n"
      ],
      "text/plain": [
       "    time surv     \n",
       "347 2557 0.7479833"
      ]
     },
     "metadata": {},
     "output_type": "display_data"
    },
    {
     "data": {
      "text/html": [
       "<table>\n",
       "<thead><tr><th></th><th scope=col>time</th><th scope=col>surv</th></tr></thead>\n",
       "<tbody>\n",
       "\t<tr><th scope=row>256</th><td>2795     </td><td>0.7402676</td></tr>\n",
       "</tbody>\n",
       "</table>\n"
      ],
      "text/latex": [
       "\\begin{tabular}{r|ll}\n",
       "  & time & surv\\\\\n",
       "\\hline\n",
       "\t256 & 2795      & 0.7402676\\\\\n",
       "\\end{tabular}\n"
      ],
      "text/markdown": [
       "\n",
       "| <!--/--> | time | surv | \n",
       "|---|\n",
       "| 256 | 2795      | 0.7402676 | \n",
       "\n",
       "\n"
      ],
      "text/plain": [
       "    time surv     \n",
       "256 2795 0.7402676"
      ]
     },
     "metadata": {},
     "output_type": "display_data"
    }
   ],
   "source": [
    "male.est[ min( which(male.est$surv <=.75 ) ), ]\n",
    "female.est[ min( which(female.est$surv <=.75 ) ), ]"
   ]
  },
  {
   "cell_type": "code",
   "execution_count": null,
   "metadata": {},
   "outputs": [],
   "source": []
  }
 ],
 "metadata": {
  "kernelspec": {
   "display_name": "R",
   "language": "R",
   "name": "ir"
  },
  "language_info": {
   "codemirror_mode": "r",
   "file_extension": ".r",
   "mimetype": "text/x-r-source",
   "name": "R",
   "pygments_lexer": "r",
   "version": "3.4.3"
  }
 },
 "nbformat": 4,
 "nbformat_minor": 2
}
